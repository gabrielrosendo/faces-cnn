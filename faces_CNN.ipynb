{
 "cells": [
  {
   "cell_type": "markdown",
   "metadata": {},
   "source": [
    "### Before continuing, make sure you have Wiki DB installed and in the same directory as this program. See README for link"
   ]
  },
  {
   "cell_type": "markdown",
   "metadata": {},
   "source": [
    "## Description of Data Set and CNN goal\n",
    "The Convolutional Neural Network (CNN) built in this project aims to recognize and classify images of faces based on the provided metadata. <br>\n",
    "Specifically, the CNN will be trained to:\n",
    "Identify the Gender and Predict the Age of a person based on their face."
   ]
  },
  {
   "cell_type": "markdown",
   "metadata": {},
   "source": [
    "## Import Dependencies "
   ]
  },
  {
   "cell_type": "code",
   "outputs": [],
   "source": [
    "import scipy.io\n",
    "import os\n",
    "import matplotlib.pyplot as plt\n",
    "from PIL import Image\n",
    "from datetime import datetime, timedelta\n",
    "import splitfolders\n",
    "import tensorflow as tf\n",
    "from keras.models import Sequential\n",
    "from tensorflow.keras.layers import Conv2D\n",
    "from tensorflow.keras.layers import MaxPooling2D\n",
    "from tensorflow.keras.layers import Flatten\n",
    "from tensorflow.keras.layers import Dense\n",
    "from tensorflow.keras.layers import Input\n",
    "from keras.models import Model\n",
    "\n",
    "\n"
   ],
   "metadata": {
    "collapsed": false
   }
  },
  {
   "cell_type": "markdown",
   "source": [
    "## Load Relevant Metadata"
   ],
   "metadata": {
    "collapsed": false
   }
  },
  {
   "cell_type": "code",
   "outputs": [],
   "source": [
    "# Path to the local dataset directory\n",
    "import numpy as np\n",
    "\n",
    "\n",
    "data_dir = './wiki'\n",
    "\n",
    "# Path to the metadata file\n",
    "metadata_file = os.path.join(data_dir, 'wiki.mat')\n",
    "\n",
    "# Load the metadata from the .mat file\n",
    "metadata = scipy.io.loadmat(metadata_file)\n",
    "# Extract the relevant metadata\n",
    "wiki_data = metadata['wiki'][0, 0]\n",
    "all_image_paths = wiki_data['full_path'][0]\n",
    "print(all_image_paths)\n",
    "names = wiki_data['name'][0]\n",
    "genders = wiki_data['gender'][0]\n",
    "birthdates = wiki_data['dob'][0]\n",
    "photo_taken = wiki_data['photo_taken'][0]\n",
    "\n",
    "# Calculate age\n",
    "# Function to convert MATLAB serial date number to a readable date\n",
    "def convert_dob(dob):\n",
    "    reference_date = datetime(1, 1, 1)\n",
    "    days_since_reference = int(dob)\n",
    "    actual_date = reference_date + timedelta(days=days_since_reference - 366)\n",
    "    return actual_date.strftime(\"%Y-%m-%d\")  # Format as Year-Month-Day\n",
    "\n",
    "# Calculate ages\n",
    "ages = []\n",
    "for dob, photo_year in zip(birthdates, photo_taken):\n",
    "    birthdate = convert_dob(dob)\n",
    "    age = photo_year - int(birthdate[:4])\n",
    "\n",
    "    ages.append(age)\n",
    "\n",
    "ages = np.array(ages)\n",
    "# MATLAB's reference date (0 days since year 0)\n",
    "reference_date = datetime(1, 1, 1)\n",
    "\n"
   ],
   "metadata": {
    "collapsed": false
   }
  },
  {
   "cell_type": "markdown",
   "source": [
    "## Visualize 5 examples "
   ],
   "metadata": {
    "collapsed": false
   }
  },
  {
   "cell_type": "code",
   "outputs": [],
   "source": [
    "\n",
    "# Function to display an image with its metadata\n",
    "def display_image_with_metadata(image_path, name, gender, dob, photo_taken, age):\n",
    "    # Construct the full image path\n",
    "    full_image_path = os.path.join(data_dir, image_path[0])\n",
    "    birthdate_str = convert_dob(dob)\n",
    "\n",
    "    # Open and display the image\n",
    "    image = Image.open(full_image_path)\n",
    "    plt.imshow(image)\n",
    "    plt.imshow(image)\n",
    "    title = (f\"Name: {name[0]}\\n\"\n",
    "            f\"Gender: {'Male' if gender == 1 else 'Female' }\\n\"\n",
    "             f\"Birthdate: {birthdate_str}\\n\"\n",
    "             f\"Year Picture was taken: {photo_taken}\\n\"\n",
    "             # Can be off by 1 year, since db does not have month/day picture was taken\n",
    "             f\"Age when picture taken: {age}\\n\"\n",
    "             )\n",
    "    plt.title(title)\n",
    "    plt.axis('off')\n",
    "    # plt.show()\n",
    "\n",
    "# Display a few images with their metadata\n",
    "for i in range(5):\n",
    "    display_image_with_metadata(all_image_paths[i], names[i], genders[i], birthdates[i], photo_taken[i], ages[i])\n",
    "    "
   ],
   "metadata": {
    "collapsed": false
   }
  },
  {
   "cell_type": "markdown",
   "source": [
    "## Split Data\n"
   ],
   "metadata": {
    "collapsed": false
   }
  },
  {
   "cell_type": "code",
   "outputs": [],
   "source": [
    "# Split data between training and testing\n",
    "# Check if the directory with split data already exists\n",
    "if not os.path.exists(\"./wiki_split_data\"):\n",
    "    # Split data between training and testing\n",
    "    splitfolders.ratio('./wiki', output=\"./wiki_split_data\", seed=1337, ratio=(0.7, 0.15, 0.15))\n"
   ],
   "metadata": {
    "collapsed": false
   }
  },
  {
   "cell_type": "markdown",
   "source": [
    "## Build Model"
   ],
   "metadata": {
    "collapsed": false
   }
  },
  {
   "cell_type": "code",
   "outputs": [],
   "source": [
    "# Input layer\n",
    "input_layer = Input(shape=(64, 64, 3))\n",
    "\n",
    "# Shared layers\n",
    "x = Conv2D(filters=32, kernel_size=(3, 3), padding='same', activation='relu')(input_layer)\n",
    "x = Flatten()(x)\n",
    "x = Dense(units=128, activation='relu')(x)\n",
    "\n",
    "# Output layers\n",
    "age_output = Dense(units=1, activation='linear', name='age_output')(x)  # Regression for age\n",
    "gender_output = Dense(units=1, activation='sigmoid', name='gender_output')(x)  # Binary classification for gender\n",
    "\n",
    "# Define the model\n",
    "model = Model(inputs=input_layer, outputs=[age_output, gender_output])\n",
    "\n",
    "# Print the model summary\n",
    "model.summary()"
   ],
   "metadata": {
    "collapsed": false
   }
  },
  {
   "cell_type": "markdown",
   "source": [
    "## Train Model"
   ],
   "metadata": {
    "collapsed": false
   }
  },
  {
   "cell_type": "code",
   "outputs": [],
   "source": [
    "import os\n",
    "import numpy as np\n",
    "\n",
    "def extract_labels(image_paths, all_image_paths, ages, genders):\n",
    "    # Create empty lists to hold the extracted ages and genders\n",
    "    extracted_ages = []\n",
    "    extracted_genders = []\n",
    "\n",
    "    # Loop through the image paths in the split dataset\n",
    "    for path in image_paths:\n",
    "        # Print the path being checked\n",
    "        print(f'Checking path: {path}')\n",
    "        # Get the index of the image path in the original metadata\n",
    "        index = np.where(all_image_paths == path) # Adjusted to use path directly\n",
    "\n",
    "        if len(index) > 0:\n",
    "            print('Image found')\n",
    "            extracted_ages.append(ages[index[0]])  # Append the age\n",
    "            extracted_genders.append(genders[index[0]])  # Append the gender\n",
    "        else:\n",
    "            print(f'No match found for: {path}')  # Print if no match is found\n",
    "\n",
    "    return np.array(extracted_ages), np.array(extracted_genders)\n",
    "\n",
    "# Function to get all image paths in a directory\n",
    "def get_image_paths(directory):\n",
    "    image_paths = []\n",
    "    for root, _, files in os.walk(directory):  # Walk through directory\n",
    "        for file in files:\n",
    "            print(f'Checking file: {file} in {root[-2:]}')\n",
    "            if file.endswith(('.jpg')):  # Include only image files\n",
    "                print(f'Found image: {file}')\n",
    "                # add name of folder to image path\n",
    "                image_paths.append(f\"{root[-2:]}/{file}\")  # Join path correctly\n",
    "    return image_paths\n",
    "\n",
    "# Use the function to get training, validation, and test image paths\n",
    "train_image_paths = get_image_paths('./wiki_split_data/train')\n",
    "val_image_paths = get_image_paths('./wiki_split_data/val')\n",
    "test_image_paths = get_image_paths('./wiki_split_data/test')\n",
    "\n",
    "# Print out the paths to verify\n",
    "print(\"Train Image Paths:\", train_image_paths)\n",
    "print(\"Validation Image Paths:\", val_image_paths)\n",
    "print(\"Test Image Paths:\", test_image_paths)\n",
    "\n",
    "# Prepare labels for training\n",
    "y_train_ages, y_train_genders = extract_labels(train_image_paths, all_image_paths, ages, genders)\n",
    "\n",
    "# Prepare labels for validation\n",
    "y_val_ages, y_val_genders = extract_labels(val_image_paths, all_image_paths, ages, genders)\n",
    "\n",
    "# Prepare labels for test dataset\n",
    "y_test_ages, y_test_genders = extract_labels(test_image_paths, all_image_paths, ages, genders)\n",
    "\n",
    "# Check the shapes to confirm\n",
    "print(f'y_train_ages shape: {y_train_ages.shape}')\n",
    "print(f'y_train_genders shape: {y_train_genders.shape}')\n",
    "print(f'y_val_ages shape: {y_val_ages.shape}')\n",
    "print(f'y_val_genders shape: {y_val_genders.shape}')\n",
    "print(f'y_test_ages shape: {y_test_ages.shape}')\n",
    "print(f'y_test_genders shape: {y_test_genders.shape}')\n"
   ],
   "metadata": {
    "collapsed": false
   }
  }
 ],
 "metadata": {
  "kernelspec": {
   "display_name": "Python 3",
   "language": "python",
   "name": "python3"
  },
  "language_info": {
   "codemirror_mode": {
    "name": "ipython",
    "version": 3
   },
   "file_extension": ".py",
   "mimetype": "text/x-python",
   "name": "python",
   "nbconvert_exporter": "python",
   "pygments_lexer": "ipython3",
   "version": "3.11.2"
  }
 },
 "nbformat": 4,
 "nbformat_minor": 2
}
